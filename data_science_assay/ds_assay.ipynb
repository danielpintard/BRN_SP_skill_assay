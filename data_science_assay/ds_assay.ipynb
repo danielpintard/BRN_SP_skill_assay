{
 "cells": [
  {
   "cell_type": "code",
   "execution_count": 4,
   "metadata": {},
   "outputs": [],
   "source": [
    "import numpy as np\n",
    "import pandas as pd\n",
    "import matplotlib.pyplot as plt\n",
    "import scipy.stats as stats\n",
    "import plotly.express as px \n",
    "\n"
   ]
  },
  {
   "cell_type": "markdown",
   "metadata": {},
   "source": [
    "# Part 1 of Data Science Assessment"
   ]
  },
  {
   "cell_type": "markdown",
   "metadata": {},
   "source": [
    "#### 1. Read in the gapminder_clean.csv data as a pandas DataFrame."
   ]
  },
  {
   "cell_type": "code",
   "execution_count": 5,
   "metadata": {},
   "outputs": [],
   "source": [
    "df = pd.read_csv('gapminder_clean.csv')"
   ]
  },
  {
   "cell_type": "markdown",
   "metadata": {},
   "source": [
    "#### 2. Filter the data to include only rows where Year is 1962 and then make a scatter plot comparing 'CO2 emissions (metric tons per capita)' and gdpPercap for the filtered data."
   ]
  },
  {
   "cell_type": "code",
   "execution_count": 6,
   "metadata": {},
   "outputs": [
    {
     "data": {
      "text/plain": [
       "Text(0.5, 1.0, 'Scatter Plot of GDP per Capita vs CO2 emissions')"
      ]
     },
     "execution_count": 6,
     "metadata": {},
     "output_type": "execute_result"
    },
    {
     "data": {
      "image/png": "[encoded data removed]",
      "text/plain": [
       "<Figure size 432x288 with 1 Axes>"
      ]
     },
     "metadata": {
      "needs_background": "light"
     },
     "output_type": "display_data"
    }
   ],
   "source": [
    "df2 = df.loc[df['Year'] == 1962]\n",
    "\n",
    "df2_int = df2[['CO2 emissions (metric tons per capita)', 'gdpPercap']].dropna()\n",
    "\n",
    "plt.scatter(df2_int['gdpPercap'], df2_int['CO2 emissions (metric tons per capita)'], norm = True)\n",
    "plt.xlabel('gdpPercap')   \n",
    "plt.ylabel('CO2 emissions (metric tons per capita)')\n",
    "plt.title('Scatter Plot of GDP per Capita vs CO2 emissions')"
   ]
  },
  {
   "cell_type": "markdown",
   "metadata": {},
   "source": [
    "#### 3. On the filtered data, calculate the correlation of 'CO2 emissions (metric tons per capita)' and gdpPercap. What is the correlation and associated p value?"
   ]
  },
  {
   "cell_type": "code",
   "execution_count": 7,
   "metadata": {},
   "outputs": [
    {
     "name": "stdout",
     "output_type": "stream",
     "text": [
      "Correlation Coeffecient (R):  0.926081672501947\n",
      "P-Value:  1.1286792210040484e-46\n"
     ]
    }
   ],
   "source": [
    "r = stats.pearsonr(df2_int['gdpPercap'], df2_int['CO2 emissions (metric tons per capita)'])\n",
    "\n",
    "print('Correlation Coeffecient (R): ', r[0])\n",
    "print('P-Value: ', r[1])"
   ]
  },
  {
   "cell_type": "markdown",
   "metadata": {},
   "source": [
    "#### 4. On the unfiltered data, answer \"In what year is the correlation between 'CO2 emissions (metric tons per capita)' and gdpPercap the strongest?\" Filter the dataset to that year for the next step..."
   ]
  },
  {
   "cell_type": "code",
   "execution_count": 8,
   "metadata": {},
   "outputs": [
    {
     "name": "stdout",
     "output_type": "stream",
     "text": [
      "The year with the strongest correlation between CO2 emissions and GDP per capita is 1967.\n"
     ]
    }
   ],
   "source": [
    "corr_yr =  df.groupby('Year')[['gdpPercap', 'CO2 emissions (metric tons per capita)']].corr().unstack(level=1)\n",
    "corr_yr = corr_yr['CO2 emissions (metric tons per capita)', 'gdpPercap']\n",
    "strongest_corr = corr_yr.idxmax()\n",
    "print('The year with the strongest correlation between CO2 emissions and GDP per capita is ' + str(strongest_corr) + '.')\n"
   ]
  },
  {
   "cell_type": "markdown",
   "metadata": {},
   "source": [
    "#### 5. Using plotly or bokeh, create an interactive scatter plot comparing 'CO2 emissions (metric tons per capita)' and gdpPercap, where the point size is determined by pop (population) and the color is determined by the continent."
   ]
  },
  {
   "cell_type": "code",
   "execution_count": 9,
   "metadata": {},
   "outputs": [
    {
     "data": {
      "application/vnd.plotly.v1+json": {
       "config": {
        "plotlyServerURL": "https://plot.ly"
       },
       "data": [
        {
         "hovertemplate": "continent=Asia<br>gdpPercap=%{x}<br>CO2 emissions (metric tons per capita)=%{y}<br>Population density (people per sq. km of land area)=%{marker.size}<extra></extra>",
         "legendgroup": "Asia",
         "marker": {
          "color": "#636efa",
          "size": [
           15.8818123334,
           284.352173913,
           37.9303195105,
           80.3717412723,
           174.614494533,
           58.4616675039,
           20.4572764479,
           126.848428835,
           274.679574584,
           14.9638939257,
           32.8749158249,
           212.595307918,
           0.755159762095,
           38.5873473697,
           79.0709020979,
           2.1328497576700003,
           69.5237196451,
           110.060356736,
           2.41725504608,
           2951.64179104,
           186.620953596,
           66.1169723424,
           122.830194476
          ],
          "sizemode": "area",
          "sizeref": 7.3791044776,
          "symbol": "circle"
         },
         "mode": "markers",
         "name": "Asia",
         "orientation": "v",
         "showlegend": true,
         "type": "scatter",
         "x": [
          836.1971382,
          14804.6727,
          523.4323142,
          612.7056934,
          700.7706107000001,
          762.4317721,
          8931.459811,
          8393.741404,
          9847.788607,
          2741.796252,
          80894.88326,
          6006.983042,
          1226.04113,
          349,
          676.4422254,
          4720.942687,
          942.4082588,
          1814.12743,
          16903.04886,
          4977.41854,
          1135.514326,
          1295.46066,
          637.1232887
         ],
         "xaxis": "x",
         "y": [
          0.123782381421,
          5.12101242081,
          0.0624360387486,
          0.574162146975,
          0.331763432432,
          0.23191547809,
          2.05575631533,
          4.93341748634,
          4.86355784562,
          1.0719834839700002,
          43.4283027016,
          1.64225486815,
          1.83477215037,
          0.143519517019,
          0.0188098863912,
          0.205537806177,
          0.402522332305,
          0.555413076261,
          4.90876421118,
          1.54645934466,
          0.25192412202,
          0.360202673298,
          0.574906353177
         ],
         "yaxis": "y"
        },
        {
         "hovertemplate": "continent=Europe<br>gdpPercap=%{x}<br>CO2 emissions (metric tons per capita)=%{y}<br>Population density (people per sq. km of land area)=%{marker.size}<extra></extra>",
         "legendgroup": "Europe",
         "marker": {
          "color": "#EF553B",
          "size": [
           71.7371532847,
           89.33153305889999,
           75.1172918738,
           114.122114704,
           15.1211267606,
           92.985057509,
           67.3707370054,
           113.517822222,
           1.98255361596,
           42.1316591668,
           179.86637652599998,
           373.1694609,
           10.3616449233,
           104.434212674,
           96.9892896175,
           84.8061213858,
           65.3946676538,
           19.1741750743,
           151.583308035,
           42.1610436184,
           227.105361055
          ],
          "sizemode": "area",
          "sizeref": 7.3791044776,
          "symbol": "circle"
         },
         "mode": "markers",
         "name": "Europe",
         "orientation": "v",
         "showlegend": true,
         "type": "scatter",
         "x": [
          2760.196931,
          12834.6024,
          5577.0028,
          15937.21123,
          10921.63626,
          12999.91766,
          8513.097016,
          9326.64467,
          13319.89568,
          7655.568963,
          10022.40131,
          15363.25136,
          16361.87647,
          6557.152776,
          6361.517993,
          6470.866545,
          7993.512294,
          15258.29697,
          22966.14432,
          2826.3563870000003,
          14142.85089
         ],
         "xaxis": "x",
         "y": [
          1.36374630011,
          5.41773672705,
          6.63836916108,
          10.1493005476,
          6.21338658857,
          7.3064221599,
          2.24941398567,
          5.758242269149999,
          7.269387323839999,
          5.65504728764,
          4.43148255688,
          8.47605463669,
          5.1072949704,
          8.105834013680001,
          1.39828723131,
          4.71631855487,
          2.64722755876,
          8.770023402589999,
          5.43460087436,
          1.03313907211,
          10.7841045545
         ],
         "yaxis": "y"
        },
        {
         "hovertemplate": "continent=Africa<br>gdpPercap=%{x}<br>CO2 emissions (metric tons per capita)=%{y}<br>Population density (people per sq. km of land area)=%{marker.size}<extra></extra>",
         "legendgroup": "Africa",
         "marker": {
          "color": "#00cc96",
          "size": [
           5.60690797484,
           4.782891633909999,
           24.2413089748,
           19.5285818713,
           125.97838785,
           13.28667259,
           2.75860862307,
           2.72716428571,
           115.012358947,
           14.4378553459,
           5.668809318380001,
           10.0693404635,
           23.8699100817,
           2.14937322932,
           35.4111013448,
           16.3677356341,
           23.9649004267,
           17.8418122079,
           13.653644103,
           1.0580384645999998,
           10.4417065034,
           45.2059079338,
           4.67648317065,
           1.0209420781999998,
           386.166009852,
           33.559405386,
           11.0233335029,
           3.27168074524,
           57.60904838760001,
           138.561532225,
           70.7020833333,
           20.0632784501,
           33.2455943475,
           5.14433162241,
           17.1823896001,
           5.34818981481,
           23.9231395349,
           14.0054639874,
           34.1137157566,
           30.4945481462,
           42.9439567589,
           5.10211867257,
           12.197523588
          ],
          "sizemode": "area",
          "sizeref": 7.3791044776,
          "symbol": "circle"
         },
         "mode": "markers",
         "name": "Africa",
         "orientation": "v",
         "showlegend": true,
         "type": "scatter",
         "x": [
          3246.991771,
          5522.776375,
          1035.831411,
          794.8265597,
          412.97751360000007,
          1508.453148,
          1136.056615,
          1196.810565,
          1876.029643,
          2052.050473,
          3020.050513,
          915.5960025,
          516.1186438,
          8358.761987,
          1125.69716,
          708.7595409,
          715.5806402000001,
          1056.736457,
          713.6036482999999,
          18772.75169,
          1634.047282,
          495.5147806,
          545.0098873,
          1421.145193,
          2475.387562,
          1711.04477,
          566.6691539,
          1054.384891,
          1014.514104,
          510.9637142,
          1384.840593,
          1612.404632,
          1206.043465,
          1284.7331800000002,
          7114.477970999999,
          1687.997641,
          2613.101665,
          848.2186575,
          1477.59676,
          1932.3601670000005,
          908.9185217,
          1777.077318,
          569.7950712
         ],
         "xaxis": "x",
         "y": [
          0.632118426889,
          0.166658588848,
          0.0523195961148,
          0.0192168474009,
          0.0147354429891,
          0.0729810151442,
          0.0533441408437,
          0.0341490827003,
          0.0856623590204,
          0.324270273072,
          0.669756398256,
          0.0908814105401,
          0.0408827807982,
          1.82744493336,
          0.185683744295,
          0.180529006335,
          0.0707397168393,
          0.266146233454,
          0.465652918101,
          9.94130993774,
          0.138895338975,
          0.086039155676,
          0.0392007077217,
          0.188179057955,
          0.6361795955439999,
          0.3615857767970001,
          0.216165510896,
          0.0318543481335,
          0.244682890582,
          0.0118002652184999,
          0.1620797359809999,
          0.181319271624,
          0.105440879922,
          0.0704483235701,
          6.46564779364,
          0.250771072594,
          0.55253014742,
          0.141879278158,
          0.10672264605,
          0.638870927594,
          0.0944460734361,
          1.2636279603,
          1.12296052314
         ],
         "yaxis": "y"
        },
        {
         "hovertemplate": "continent=Americas<br>gdpPercap=%{x}<br>CO2 emissions (metric tons per capita)=%{y}<br>Population density (people per sq. km of land area)=%{marker.size}<extra></extra>",
         "legendgroup": "Americas",
         "marker": {
          "color": "#ab63fa",
          "size": [
           8.37953915131,
           3.91131357888,
           10.6307957273,
           2.24467779768,
           12.098215006199998,
           18.3067769265,
           33.1905797101,
           76.9417783985,
           85.3882632995,
           20.1056819824,
           162.28652278200002,
           46.5948488242,
           161.30373730000005,
           22.2208240236,
           166.91043398,
           24.3985457445,
           18.197440585,
           18.7489911219,
           5.76284671533,
           9.59537578125,
           180.490838207,
           21.6959130731,
           15.713021369000002
          ],
          "sizemode": "area",
          "sizeref": 7.3791044776,
          "symbol": "circle"
         },
         "mode": "markers",
         "name": "Americas",
         "orientation": "v",
         "showlegend": true,
         "type": "scatter",
         "x": [
          8052.953020999999,
          2586.886053,
          3429.864357,
          16076.58803,
          5106.654313,
          2678.729839,
          4161.727834,
          5690.268015,
          1653.7230029999998,
          4579.074215,
          4358.595393,
          3242.531147,
          1452.057666,
          2538.269358,
          6124.703450999999,
          5754.733883,
          4643.393534000001,
          4421.009084,
          2299.376311,
          5788.09333,
          5621.368472,
          19530.36557,
          5444.61962
         ],
         "xaxis": "x",
         "y": [
          2.85816254619,
          0.446569679542,
          0.744966530874,
          13.8103545953,
          2.1409901271900003,
          1.21683476874,
          0.517145991263,
          1.90593276713,
          0.380469161164,
          0.465781970972,
          0.342459705043,
          0.397317380131,
          0.0585660070754,
          0.352498584235,
          2.14463346178,
          1.8996986330400003,
          0.493983688604,
          1.21812383412,
          0.213013396786,
          1.1118562074299998,
          5.00989828473,
          18.5983178822,
          1.77610139003
         ],
         "yaxis": "y"
        },
        {
         "hovertemplate": "continent=Oceania<br>gdpPercap=%{x}<br>CO2 emissions (metric tons per capita)=%{y}<br>Population density (people per sq. km of land area)=%{marker.size}<extra></extra>",
         "legendgroup": "Oceania",
         "marker": {
          "color": "#FFA15A",
          "size": [
           1.53586816448,
           10.3456002431
          ],
          "sizemode": "area",
          "sizeref": 7.3791044776,
          "symbol": "circle"
         },
         "mode": "markers",
         "name": "Oceania",
         "orientation": "v",
         "showlegend": true,
         "type": "scatter",
         "x": [
          14526.12465,
          14463.918930000002
         ],
         "xaxis": "x",
         "y": [
          10.9556247987,
          5.00761352373
         ],
         "yaxis": "y"
        }
       ],
       "layout": {
        "legend": {
         "itemsizing": "constant",
         "title": {
          "text": "continent"
         },
         "tracegroupgap": 0
        },
        "template": {
         "data": {
          "bar": [
           {
            "error_x": {
             "color": "#2a3f5f"
            },
            "error_y": {
             "color": "#2a3f5f"
            },
            "marker": {
             "line": {
              "color": "#E5ECF6",
              "width": 0.5
             },
             "pattern": {
              "fillmode": "overlay",
              "size": 10,
              "solidity": 0.2
             }
            },
            "type": "bar"
           }
          ],
          "barpolar": [
           {
            "marker": {
             "line": {
              "color": "#E5ECF6",
              "width": 0.5
             },
             "pattern": {
              "fillmode": "overlay",
              "size": 10,
              "solidity": 0.2
             }
            },
            "type": "barpolar"
           }
          ],
          "carpet": [
           {
            "aaxis": {
             "endlinecolor": "#2a3f5f",
             "gridcolor": "white",
             "linecolor": "white",
             "minorgridcolor": "white",
             "startlinecolor": "#2a3f5f"
            },
            "baxis": {
             "endlinecolor": "#2a3f5f",
             "gridcolor": "white",
             "linecolor": "white",
             "minorgridcolor": "white",
             "startlinecolor": "#2a3f5f"
            },
            "type": "carpet"
           }
          ],
          "choropleth": [
           {
            "colorbar": {
             "outlinewidth": 0,
             "ticks": ""
            },
            "type": "choropleth"
           }
          ],
          "contour": [
           {
            "colorbar": {
             "outlinewidth": 0,
             "ticks": ""
            },
            "colorscale": [
             [
              0,
              "#0d0887"
             ],
             [
              0.1111111111111111,
              "#46039f"
             ],
             [
              0.2222222222222222,
              "#7201a8"
             ],
             [
              0.3333333333333333,
              "#9c179e"
             ],
             [
              0.4444444444444444,
              "#bd3786"
             ],
             [
              0.5555555555555556,
              "#d8576b"
             ],
             [
              0.6666666666666666,
              "#ed7953"
             ],
             [
              0.7777777777777778,
              "#fb9f3a"
             ],
             [
              0.8888888888888888,
              "#fdca26"
             ],
             [
              1,
              "#f0f921"
             ]
            ],
            "type": "contour"
           }
          ],
          "contourcarpet": [
           {
            "colorbar": {
             "outlinewidth": 0,
             "ticks": ""
            },
            "type": "contourcarpet"
           }
          ],
          "heatmap": [
           {
            "colorbar": {
             "outlinewidth": 0,
             "ticks": ""
            },
            "colorscale": [
             [
              0,
              "#0d0887"
             ],
             [
              0.1111111111111111,
              "#46039f"
             ],
             [
              0.2222222222222222,
              "#7201a8"
             ],
             [
              0.3333333333333333,
              "#9c179e"
             ],
             [
              0.4444444444444444,
              "#bd3786"
             ],
             [
              0.5555555555555556,
              "#d8576b"
             ],
             [
              0.6666666666666666,
              "#ed7953"
             ],
             [
              0.7777777777777778,
              "#fb9f3a"
             ],
             [
              0.8888888888888888,
              "#fdca26"
             ],
             [
              1,
              "#f0f921"
             ]
            ],
            "type": "heatmap"
           }
          ],
          "heatmapgl": [
           {
            "colorbar": {
             "outlinewidth": 0,
             "ticks": ""
            },
            "colorscale": [
             [
              0,
              "#0d0887"
             ],
             [
              0.1111111111111111,
              "#46039f"
             ],
             [
              0.2222222222222222,
              "#7201a8"
             ],
             [
              0.3333333333333333,
              "#9c179e"
             ],
             [
              0.4444444444444444,
              "#bd3786"
             ],
             [
              0.5555555555555556,
              "#d8576b"
             ],
             [
              0.6666666666666666,
              "#ed7953"
             ],
             [
              0.7777777777777778,
              "#fb9f3a"
             ],
             [
              0.8888888888888888,
              "#fdca26"
             ],
             [
              1,
              "#f0f921"
             ]
            ],
            "type": "heatmapgl"
           }
          ],
          "histogram": [
           {
            "marker": {
             "pattern": {
              "fillmode": "overlay",
              "size": 10,
              "solidity": 0.2
             }
            },
            "type": "histogram"
           }
          ],
          "histogram2d": [
           {
            "colorbar": {
             "outlinewidth": 0,
             "ticks": ""
            },
            "colorscale": [
             [
              0,
              "#0d0887"
             ],
             [
              0.1111111111111111,
              "#46039f"
             ],
             [
              0.2222222222222222,
              "#7201a8"
             ],
             [
              0.3333333333333333,
              "#9c179e"
             ],
             [
              0.4444444444444444,
              "#bd3786"
             ],
             [
              0.5555555555555556,
              "#d8576b"
             ],
             [
              0.6666666666666666,
              "#ed7953"
             ],
             [
              0.7777777777777778,
              "#fb9f3a"
             ],
             [
              0.8888888888888888,
              "#fdca26"
             ],
             [
              1,
              "#f0f921"
             ]
            ],
            "type": "histogram2d"
           }
          ],
          "histogram2dcontour": [
           {
            "colorbar": {
             "outlinewidth": 0,
             "ticks": ""
            },
            "colorscale": [
             [
              0,
              "#0d0887"
             ],
             [
              0.1111111111111111,
              "#46039f"
             ],
             [
              0.2222222222222222,
              "#7201a8"
             ],
             [
              0.3333333333333333,
              "#9c179e"
             ],
             [
              0.4444444444444444,
              "#bd3786"
             ],
             [
              0.5555555555555556,
              "#d8576b"
             ],
             [
              0.6666666666666666,
              "#ed7953"
             ],
             [
              0.7777777777777778,
              "#fb9f3a"
             ],
             [
              0.8888888888888888,
              "#fdca26"
             ],
             [
              1,
              "#f0f921"
             ]
            ],
            "type": "histogram2dcontour"
           }
          ],
          "mesh3d": [
           {
            "colorbar": {
             "outlinewidth": 0,
             "ticks": ""
            },
            "type": "mesh3d"
           }
          ],
          "parcoords": [
           {
            "line": {
             "colorbar": {
              "outlinewidth": 0,
              "ticks": ""
             }
            },
            "type": "parcoords"
           }
          ],
          "pie": [
           {
            "automargin": true,
            "type": "pie"
           }
          ],
          "scatter": [
           {
            "marker": {
             "colorbar": {
              "outlinewidth": 0,
              "ticks": ""
             }
            },
            "type": "scatter"
           }
          ],
          "scatter3d": [
           {
            "line": {
             "colorbar": {
              "outlinewidth": 0,
              "ticks": ""
             }
            },
            "marker": {
             "colorbar": {
              "outlinewidth": 0,
              "ticks": ""
             }
            },
            "type": "scatter3d"
           }
          ],
          "scattercarpet": [
           {
            "marker": {
             "colorbar": {
              "outlinewidth": 0,
              "ticks": ""
             }
            },
            "type": "scattercarpet"
           }
          ],
          "scattergeo": [
           {
            "marker": {
             "colorbar": {
              "outlinewidth": 0,
              "ticks": ""
             }
            },
            "type": "scattergeo"
           }
          ],
          "scattergl": [
           {
            "marker": {
             "colorbar": {
              "outlinewidth": 0,
              "ticks": ""
             }
            },
            "type": "scattergl"
           }
          ],
          "scattermapbox": [
           {
            "marker": {
             "colorbar": {
              "outlinewidth": 0,
              "ticks": ""
             }
            },
            "type": "scattermapbox"
           }
          ],
          "scatterpolar": [
           {
            "marker": {
             "colorbar": {
              "outlinewidth": 0,
              "ticks": ""
             }
            },
            "type": "scatterpolar"
           }
          ],
          "scatterpolargl": [
           {
            "marker": {
             "colorbar": {
              "outlinewidth": 0,
              "ticks": ""
             }
            },
            "type": "scatterpolargl"
           }
          ],
          "scatterternary": [
           {
            "marker": {
             "colorbar": {
              "outlinewidth": 0,
              "ticks": ""
             }
            },
            "type": "scatterternary"
           }
          ],
          "surface": [
           {
            "colorbar": {
             "outlinewidth": 0,
             "ticks": ""
            },
            "colorscale": [
             [
              0,
              "#0d0887"
             ],
             [
              0.1111111111111111,
              "#46039f"
             ],
             [
              0.2222222222222222,
              "#7201a8"
             ],
             [
              0.3333333333333333,
              "#9c179e"
             ],
             [
              0.4444444444444444,
              "#bd3786"
             ],
             [
              0.5555555555555556,
              "#d8576b"
             ],
             [
              0.6666666666666666,
              "#ed7953"
             ],
             [
              0.7777777777777778,
              "#fb9f3a"
             ],
             [
              0.8888888888888888,
              "#fdca26"
             ],
             [
              1,
              "#f0f921"
             ]
            ],
            "type": "surface"
           }
          ],
          "table": [
           {
            "cells": {
             "fill": {
              "color": "#EBF0F8"
             },
             "line": {
              "color": "white"
             }
            },
            "header": {
             "fill": {
              "color": "#C8D4E3"
             },
             "line": {
              "color": "white"
             }
            },
            "type": "table"
           }
          ]
         },
         "layout": {
          "annotationdefaults": {
           "arrowcolor": "#2a3f5f",
           "arrowhead": 0,
           "arrowwidth": 1
          },
          "autotypenumbers": "strict",
          "coloraxis": {
           "colorbar": {
            "outlinewidth": 0,
            "ticks": ""
           }
          },
          "colorscale": {
           "diverging": [
            [
             0,
             "#8e0152"
            ],
            [
             0.1,
             "#c51b7d"
            ],
            [
             0.2,
             "#de77ae"
            ],
            [
             0.3,
             "#f1b6da"
            ],
            [
             0.4,
             "#fde0ef"
            ],
            [
             0.5,
             "#f7f7f7"
            ],
            [
             0.6,
             "#e6f5d0"
            ],
            [
             0.7,
             "#b8e186"
            ],
            [
             0.8,
             "#7fbc41"
            ],
            [
             0.9,
             "#4d9221"
            ],
            [
             1,
             "#276419"
            ]
           ],
           "sequential": [
            [
             0,
             "#0d0887"
            ],
            [
             0.1111111111111111,
             "#46039f"
            ],
            [
             0.2222222222222222,
             "#7201a8"
            ],
            [
             0.3333333333333333,
             "#9c179e"
            ],
            [
             0.4444444444444444,
             "#bd3786"
            ],
            [
             0.5555555555555556,
             "#d8576b"
            ],
            [
             0.6666666666666666,
             "#ed7953"
            ],
            [
             0.7777777777777778,
             "#fb9f3a"
            ],
            [
             0.8888888888888888,
             "#fdca26"
            ],
            [
             1,
             "#f0f921"
            ]
           ],
           "sequentialminus": [
            [
             0,
             "#0d0887"
            ],
            [
             0.1111111111111111,
             "#46039f"
            ],
            [
             0.2222222222222222,
             "#7201a8"
            ],
            [
             0.3333333333333333,
             "#9c179e"
            ],
            [
             0.4444444444444444,
             "#bd3786"
            ],
            [
             0.5555555555555556,
             "#d8576b"
            ],
            [
             0.6666666666666666,
             "#ed7953"
            ],
            [
             0.7777777777777778,
             "#fb9f3a"
            ],
            [
             0.8888888888888888,
             "#fdca26"
            ],
            [
             1,
             "#f0f921"
            ]
           ]
          },
          "colorway": [
           "#636efa",
           "#EF553B",
           "#00cc96",
           "#ab63fa",
           "#FFA15A",
           "#19d3f3",
           "#FF6692",
           "#B6E880",
           "#FF97FF",
           "#FECB52"
          ],
          "font": {
           "color": "#2a3f5f"
          },
          "geo": {
           "bgcolor": "white",
           "lakecolor": "white",
           "landcolor": "#E5ECF6",
           "showlakes": true,
           "showland": true,
           "subunitcolor": "white"
          },
          "hoverlabel": {
           "align": "left"
          },
          "hovermode": "closest",
          "mapbox": {
           "style": "light"
          },
          "paper_bgcolor": "white",
          "plot_bgcolor": "#E5ECF6",
          "polar": {
           "angularaxis": {
            "gridcolor": "white",
            "linecolor": "white",
            "ticks": ""
           },
           "bgcolor": "#E5ECF6",
           "radialaxis": {
            "gridcolor": "white",
            "linecolor": "white",
            "ticks": ""
           }
          },
          "scene": {
           "xaxis": {
            "backgroundcolor": "#E5ECF6",
            "gridcolor": "white",
            "gridwidth": 2,
            "linecolor": "white",
            "showbackground": true,
            "ticks": "",
            "zerolinecolor": "white"
           },
           "yaxis": {
            "backgroundcolor": "#E5ECF6",
            "gridcolor": "white",
            "gridwidth": 2,
            "linecolor": "white",
            "showbackground": true,
            "ticks": "",
            "zerolinecolor": "white"
           },
           "zaxis": {
            "backgroundcolor": "#E5ECF6",
            "gridcolor": "white",
            "gridwidth": 2,
            "linecolor": "white",
            "showbackground": true,
            "ticks": "",
            "zerolinecolor": "white"
           }
          },
          "shapedefaults": {
           "line": {
            "color": "#2a3f5f"
           }
          },
          "ternary": {
           "aaxis": {
            "gridcolor": "white",
            "linecolor": "white",
            "ticks": ""
           },
           "baxis": {
            "gridcolor": "white",
            "linecolor": "white",
            "ticks": ""
           },
           "bgcolor": "#E5ECF6",
           "caxis": {
            "gridcolor": "white",
            "linecolor": "white",
            "ticks": ""
           }
          },
          "title": {
           "x": 0.05
          },
          "xaxis": {
           "automargin": true,
           "gridcolor": "white",
           "linecolor": "white",
           "ticks": "",
           "title": {
            "standoff": 15
           },
           "zerolinecolor": "white",
           "zerolinewidth": 2
          },
          "yaxis": {
           "automargin": true,
           "gridcolor": "white",
           "linecolor": "white",
           "ticks": "",
           "title": {
            "standoff": 15
           },
           "zerolinecolor": "white",
           "zerolinewidth": 2
          }
         }
        },
        "title": {
         "text": "Interactive Scatter Plot of GDP per Capita vs CO2 emissions"
        },
        "xaxis": {
         "anchor": "y",
         "domain": [
          0,
          1
         ],
         "title": {
          "text": "gdpPercap"
         }
        },
        "yaxis": {
         "anchor": "x",
         "domain": [
          0,
          1
         ],
         "title": {
          "text": "CO2 emissions (metric tons per capita)"
         }
        }
       }
      }
     },
     "metadata": {},
     "output_type": "display_data"
    }
   ],
   "source": [
    "df3 = df[['Year', 'CO2 emissions (metric tons per capita)', 'gdpPercap', 'continent', 'Population density (people per sq. km of land area)']]\n",
    "fil_df3 = df3.loc[df3['Year'] == 1967].dropna()\n",
    "\n",
    "fig = px.scatter(fil_df3, x='gdpPercap', y='CO2 emissions (metric tons per capita)', title='Interactive Scatter Plot of GDP per Capita vs CO2 emissions', color='continent', size='Population density (people per sq. km of land area)')\n",
    "\n",
    "fig.show()\n"
   ]
  },
  {
   "cell_type": "markdown",
   "metadata": {},
   "source": [
    "# Part 2 of Data Science Assessment"
   ]
  },
  {
   "cell_type": "markdown",
   "metadata": {},
   "source": [
    "#### 1. What is the relationship between continent and Energy use (kg of oil equivalent per capita)?"
   ]
  },
  {
   "cell_type": "markdown",
   "metadata": {},
   "source": [
    "In this scenario, an ANOVA (specifically a one-way) to identify what the relationship is between the catergorical [independent] variable (i.e. Continents) and the qualitative [dependent] variable (i.e. Energy use). Because there are more than two continents being compared, the ANOVA must be used rather than a T-test. \n",
    "\n",
    "Null Hypothesis, H0 - there is no statistically significant difference between the Energy use (kg of oil equivalent per capita) of the five continents described in the data set.\n",
    "\n",
    "Alternative Hypothesis, H1 - there is a statistically significant difference which indicates variance in the Energy use (kg of oil equivalent per capita) between the continents. \n",
    "\n",
    "α = 0.05"
   ]
  },
  {
   "cell_type": "code",
   "execution_count": 10,
   "metadata": {},
   "outputs": [
    {
     "data": {
      "text/plain": [
       "F_onewayResult(statistic=51.45915759042634, pvalue=8.527003487154367e-39)"
      ]
     },
     "execution_count": 10,
     "metadata": {},
     "output_type": "execute_result"
    }
   ],
   "source": [
    "from scipy.stats import f_oneway\n",
    "\n",
    "df4 = df[['continent', 'Energy use (kg of oil equivalent per capita)']].dropna()\n",
    "\n",
    "cont_data = [group['Energy use (kg of oil equivalent per capita)'] for continent, group in df4.groupby('continent')] \n",
    "\n",
    "f_oneway(*cont_data)\n"
   ]
  },
  {
   "cell_type": "markdown",
   "metadata": {},
   "source": [
    "α = 0.05 >  pvalue=8.527003487154367e-39\n",
    "\n",
    "The P-Value of 8.527e-39 is less that the chosen α value of 0.05, therefore there is sufficient statistical evidence to conclude that there is signifigant variation in Energy use (kg of oil equivalent per capita) amongst the five continents described in the dataset. \n",
    "\n",
    "This statement is well visualized when a bar chart is used to display the data in question. "
   ]
  },
  {
   "cell_type": "code",
   "execution_count": 11,
   "metadata": {},
   "outputs": [
    {
     "data": {
      "image/png": "[encoded data removed]",
      "text/plain": [
       "<Figure size 432x288 with 1 Axes>"
      ]
     },
     "metadata": {
      "needs_background": "light"
     },
     "output_type": "display_data"
    }
   ],
   "source": [
    "plt.bar(df4['continent'], df4['Energy use (kg of oil equivalent per capita)'])\n",
    "plt.xlabel('Continent')\n",
    "plt.ylabel('Energy use (kg of oil equivalent per capita)')\n",
    "plt.title('Energy use (kg of oil equivalent per capita) by Continents')\n",
    "plt.show()"
   ]
  },
  {
   "cell_type": "markdown",
   "metadata": {},
   "source": [
    "#### 2. Is there a significant difference between Europe and Asia with respect to 'Imports of goods and services (% of GDP)' in the years after 1990?\n"
   ]
  },
  {
   "cell_type": "markdown",
   "metadata": {},
   "source": [
    "H0 - there is no signifigant difference between the import of goods and services between Asia and Europe in years after 1990\n",
    "H1 - there is a signifigant difference between the import of goods and services between Asia and Europe in years after 1990\n",
    "\n",
    "I will go with the Mann-Whitney U test considering the distributions are not normal."
   ]
  },
  {
   "cell_type": "code",
   "execution_count": 12,
   "metadata": {},
   "outputs": [],
   "source": [
    "import seaborn as sns \n",
    "\n",
    "df5 = df[['Year', 'continent', 'Imports of goods and services (% of GDP)']]\n",
    "\n",
    "fil_df5 = df5[(df5['Year'] > 1990) & ((df5['continent'] == 'Asia') | (df5['continent'] == 'Europe'))].dropna()\n",
    "\n",
    "asiadf5 = fil_df5[fil_df5['continent'] == 'Asia'] \n",
    "eurodf5 = fil_df5[fil_df5['continent'] == 'Europe'] \n"
   ]
  },
  {
   "cell_type": "code",
   "execution_count": 13,
   "metadata": {},
   "outputs": [
    {
     "data": {
      "image/png": "[encoded data removed]",
      "text/plain": [
       "<Figure size 720x432 with 1 Axes>"
      ]
     },
     "metadata": {
      "needs_background": "light"
     },
     "output_type": "display_data"
    }
   ],
   "source": [
    "#visualizing distribution\n",
    "plt.figure(figsize=(10, 6))\n",
    "sns.histplot(data=fil_df5, x='Imports of goods and services (% of GDP)', hue='continent', bins=20, kde=True )\n",
    "plt.title('Histogram of Imports of Goods and Services (% of GDP)')\n",
    "plt.xlabel('Imports of Goods and Services (% of GDP)')\n",
    "plt.ylabel('Frequency')\n",
    "plt.show()"
   ]
  },
  {
   "cell_type": "markdown",
   "metadata": {},
   "source": [
    "The distribution is not normal "
   ]
  },
  {
   "cell_type": "code",
   "execution_count": 14,
   "metadata": {},
   "outputs": [
    {
     "name": "stdout",
     "output_type": "stream",
     "text": [
      "KstestResult(statistic=0.9693877551020302, pvalue=8.293876044120096e-149)\n",
      "KstestResult(statistic=1.0, pvalue=0.0)\n",
      "There is not a signifigant difference considering that p > alpha = 0.05\n"
     ]
    }
   ],
   "source": [
    "from scipy.stats import kstest\n",
    "\n",
    "#alpha = 0.05\n",
    "kstest_asia = kstest(asiadf5['Imports of goods and services (% of GDP)'], 'norm') \n",
    "kstest_euro = kstest(eurodf5['Imports of goods and services (% of GDP)'], 'norm')\n",
    "print(kstest_asia)\n",
    "print(kstest_euro)\n",
    "# k-test also asserts no normal distiribution \n",
    "\n",
    "stats.mannwhitneyu(asiadf5['Imports of goods and services (% of GDP)'], eurodf5['Imports of goods and services (% of GDP)'])\n",
    "\n",
    "print('There is not a signifigant difference considering that p > alpha = 0.05')"
   ]
  },
  {
   "cell_type": "markdown",
   "metadata": {},
   "source": [
    "#### 3. What is/are the country (or countries) that has the highest 'Population density (people per sq. km of land area)' across all years? (i.e., which country has the highest average ranking in this category across each time point in the dataset?)"
   ]
  },
  {
   "cell_type": "markdown",
   "metadata": {},
   "source": [
    "I think the best method of answering this question is by examining each year in which data was collected and ranking the population density of the coutnries in the dataset. Then once I have done that, I will calculate the average rank of each of the countries and whichever country has the highest average rank will be determined as the answer to the question of \"which country has the highest population density across all years\"."
   ]
  },
  {
   "cell_type": "code",
   "execution_count": 15,
   "metadata": {},
   "outputs": [],
   "source": [
    "df6 = df[['Country Name', 'Year', 'Population density (people per sq. km of land area)']]\n",
    "\n",
    "#get unique values for years so I know how many dataframes to make\n",
    "#df6['Year'].unique() = array([1962, 1967, 1972, 1977, 1982, 1987, 1992, 1997, 2002, 2007])\n",
    "\n",
    "#Creating individual dataframes for analysis \n",
    "\n",
    "#1962\n",
    "df6_1962 = df6.loc[df6['Year'] == 1962].dropna()\n",
    "df6_1962['Rank'] = df6_1962['Population density (people per sq. km of land area)'].rank(ascending = True)\n",
    "df6_1962 = df6_1962.sort_values(by=['Population density (people per sq. km of land area)'], ascending = True)\n",
    "\n",
    "#1967\n",
    "df6_1967 = df6.loc[df6['Year'] == 1967].dropna()\n",
    "df6_1967['Rank'] = df6_1967['Population density (people per sq. km of land area)'].rank(ascending = True)\n",
    "df6_1967 = df6_1967.sort_values(by=['Population density (people per sq. km of land area)'], ascending = True)\n",
    "\n",
    "#1972\n",
    "df6_1972 = df6.loc[df6['Year'] == 1972].dropna()\n",
    "df6_1972['Rank'] = df6_1972['Population density (people per sq. km of land area)'].rank(ascending = True)\n",
    "df6_1972 = df6_1972.sort_values(by=['Population density (people per sq. km of land area)'], ascending = True)\n",
    "\n",
    "#1977\n",
    "df6_1977 = df6.loc[df6['Year'] == 1977].dropna()\n",
    "df6_1977['Rank'] = df6_1977['Population density (people per sq. km of land area)'].rank(ascending = True)\n",
    "df6_1977 = df6_1977.sort_values(by=['Population density (people per sq. km of land area)'], ascending = True)\n",
    "\n",
    "#1982\n",
    "df6_1982 = df6.loc[df6['Year'] == 1982].dropna()\n",
    "df6_1982['Rank'] = df6_1982['Population density (people per sq. km of land area)'].rank(ascending = True)\n",
    "df6_1982 = df6_1982.sort_values(by=['Population density (people per sq. km of land area)'], ascending = True)\n",
    "\n",
    "#1987\n",
    "df6_1987 = df6.loc[df6['Year'] == 1987].dropna()\n",
    "df6_1987['Rank'] = df6_1987['Population density (people per sq. km of land area)'].rank(ascending = True)\n",
    "df6_1987 = df6_1987.sort_values(by=['Population density (people per sq. km of land area)'], ascending = True)\n",
    "\n",
    "#1992\n",
    "df6_1992 = df6.loc[df6['Year'] == 1992].dropna()\n",
    "df6_1992['Rank'] = df6_1992['Population density (people per sq. km of land area)'].rank(ascending = True)\n",
    "df6_1992 = df6_1992.sort_values(by=['Population density (people per sq. km of land area)'], ascending = True)\n",
    "\n",
    "#1997 \n",
    "df6_1997 = df6.loc[df6['Year'] == 1997].dropna()\n",
    "df6_1997['Rank'] = df6_1997['Population density (people per sq. km of land area)'].rank(ascending = True)\n",
    "df6_1997 = df6_1997.sort_values(by=['Population density (people per sq. km of land area)'], ascending = True)\n",
    "\n",
    "#2002\n",
    "df6_2002 = df6.loc[df6['Year'] == 2002].dropna()\n",
    "df6_2002['Rank'] = df6_2002['Population density (people per sq. km of land area)'].rank(ascending = True)\n",
    "df6_2002 = df6_2002.sort_values(by=['Population density (people per sq. km of land area)'], ascending = True)\n",
    "\n",
    "#2007\n",
    "df6_2007 = df6.loc[df6['Year'] == 2007].dropna()\n",
    "df6_2007['Rank'] = df6_2007['Population density (people per sq. km of land area)'].rank(ascending = True)\n",
    "df6_2007 = df6_2007.sort_values(by=['Population density (people per sq. km of land area)'], ascending = True)\n",
    "\n",
    "\n"
   ]
  },
  {
   "cell_type": "code",
   "execution_count": 16,
   "metadata": {},
   "outputs": [
    {
     "name": "stdout",
     "output_type": "stream",
     "text": [
      "The country with the highest average ranking is Greenland\n"
     ]
    }
   ],
   "source": [
    "#where the magic happens [1962, 1967, 1972, 1977, 1982, 1987, 1992, 1997, 2002, 2007]\n",
    "\n",
    "\n",
    "df6_list  = [df6_1962, df6_1967, df6_1972, df6_1977, df6_1982, df6_1987, df6_1992, df6_1997, df6_2002, df6_2007]\n",
    "\n",
    "country_avg_ranks = {}\n",
    "\n",
    "for datf in df6_list:\n",
    "    country_name = datf['Country Name'].tolist()\n",
    "    ranking = datf['Rank'].tolist()\n",
    "    \n",
    "    for country_name, ranking, in zip(country_name, ranking):\n",
    "        if country_name not in country_avg_ranks:\n",
    "            country_avg_ranks[country_name] = []\n",
    "        country_avg_ranks[country_name].append(ranking)\n",
    "        \n",
    "for country, average_rank in country_avg_ranks.items():\n",
    "    avg_rank = sum(average_rank) / len(average_rank)\n",
    "    \n",
    "highest_avg_rank_country = min(country_avg_ranks, key=country_avg_ranks.get)\n",
    "\n",
    "# Print the country with the highest average ranking\n",
    "print(f\"The country with the highest average ranking is {highest_avg_rank_country}\")"
   ]
  },
  {
   "cell_type": "markdown",
   "metadata": {},
   "source": [
    "As seen in the data analysis, the country with the highest population density across all years is Greenland. "
   ]
  },
  {
   "cell_type": "markdown",
   "metadata": {},
   "source": [
    "#### 4. What country (or countries) has shown the greatest increase in 'Life expectancy at birth, total (years)' between 1962 and 2007?"
   ]
  },
  {
   "cell_type": "markdown",
   "metadata": {},
   "source": [
    "Ok so first of course I will create a dataframe with the appropriate data.\n",
    "\n",
    "My approach is to take the life expectancy of each country in 1962 and 2007, then subtract the life expectancies (i.e. life expectancy in 2007 - life expectancy in 1962) and then whichever country has the greatest difference in life expectancy from the two years is the country that has had the greatest increase in life expectancy from the years of 1962-2007. "
   ]
  },
  {
   "cell_type": "code",
   "execution_count": 29,
   "metadata": {},
   "outputs": [
    {
     "name": "stdout",
     "output_type": "stream",
     "text": [
      "{'Afghanistan': 24.6139268293, 'Albania': 12.307439024399997, 'Algeria': 25.853365853699998, 'Angola': 15.648146341399993, 'Antigua and Barbuda': 12.204682926800004, 'Arab World': 21.1984053268, 'Argentina': 9.576439024400003, 'Armenia': 7.054804878099986, 'Aruba': 8.161219512200006, 'Australia': 10.350243902399995, 'Austria': 10.870975609799999, 'Azerbaijan': 8.111926829200002, 'Bahamas, The': 10.651439024399998, 'Bahrain': 20.8894878049, 'Bangladesh': 21.775999999999996, 'Barbados': 12.660243902400005, 'Belarus': 1.5675853657999994, 'Belgium': 9.5634146342, 'Belize': 8.377658536599995, 'Benin': 19.677975609800008, 'Bhutan': 33.19895121950001, 'Bolivia': 21.937073170700003, 'Bosnia and Herzegovina': 13.803512195099998, 'Botswana': 7.8195365853999945, 'Brazil': 17.179170731699998, 'Brunei Darussalam': 13.09965853660001, 'Bulgaria': 3.171463414599998, 'Burkina Faso': 19.7829268292, 'Burundi': 11.595682926800002, 'Cabo Verde': 22.78285365859999, 'Cambodia': 23.034902439, 'Cameroon': 10.073195122000001, 'Canada': 9.267317073200005, 'Caribbean small states': 8.264086659999997, 'Central African Republic': 8.3686097561, 'Central Europe and the Baltics': 6.244590015699998, 'Chad': 10.030365853700005, 'Channel Islands': 8.580707317000005, 'Chile': 20.7981463415, 'China': 29.942097560999997, 'Colombia': 14.966292682899997, 'Comoros': 18.474585365799996, 'Congo, Dem. Rep.': 13.612902438999996, 'Congo, Rep.': 5.957365853700004, 'Costa Rica': 16.346536585399996, \"Cote d'Ivoire\": 10.545000000000002, 'Croatia': 10.2973658537, 'Cuba': 13.310975609799996, 'Cyprus': 8.617268292700004, 'Czech Republic': 6.937560975600007, 'Denmark': 5.8753658535999875, 'Djibouti': 13.954902439000001, 'Dominican Republic': 18.832073170799994, 'Early-demographic dividend': 20.290744968400006, 'East Asia & Pacific': 24.161698983100003, 'East Asia & Pacific (IDA & IBRD countries)': 26.140864032799996, 'East Asia & Pacific (excluding high income)': 26.017740384299998, 'Ecuador': 20.1074878048, 'Egypt, Arab Rep.': 20.67578048779999, 'El Salvador': 19.541780487800004, 'Equatorial Guinea': 17.183902439100002, 'Eritrea': 21.8178292682, 'Estonia': 4.072585365799995, 'Ethiopia': 18.7093414634, 'Euro area': 10.496936269599999, 'Europe & Central Asia': 7.432086828400003, 'Europe & Central Asia (IDA & IBRD countries)': 5.372748366599993, 'Europe & Central Asia (excluding high income)': 5.120779302600013, 'European Union': 9.453641894300006, 'Fiji': 12.025951219500001, 'Finland': 10.685609756100007, 'Fragile and conflict affected situations': 17.27174285880001, 'France': 10.797560975700009, 'French Polynesia': 17.721317073199998, 'Gabon': 20.0187804878, 'Gambia, The': 25.9083414634, 'Georgia': 9.186682926800003, 'Germany': 9.841634146399983, 'Ghana': 12.953317073099996, 'Greece': 10.546756097499994, 'Grenada': 11.174658536599992, 'Guam': 15.088219512099997, 'Guatemala': 23.4224878049, 'Guinea': 18.739097561, 'Guinea-Bissau': 14.3882439024, 'Guyana': 5.1327560976000015, 'Haiti': 16.713585365899995, 'Heavily indebted poor countries (HIPC)': 16.157162581, 'High income': 10.391097357600003, 'Honduras': 24.225780487799994, 'Hong Kong SAR, China': 14.196731707300003, 'Hungary': 5.2853658537, 'IBRD only': 20.768728024899993, 'IDA & IBRD total': 19.228998882800006, 'IDA blend': 12.308476757200005, 'IDA only': 17.809934495700006, 'IDA total': 15.695900832700005, 'Iceland': 7.731707317100003, 'India': 22.883024390299994, 'Indonesia': 17.681926829299996, 'Iran, Islamic Rep.': 26.608390244, 'Iraq': 17.780658536500006, 'Ireland': 9.5534878048, 'Israel': 8.392682926799992, 'Italy': 12.284390243899992, 'Jamaica': 8.612658536599994, 'Japan': 13.912195121899998, 'Jordan': 18.709853658499995, 'Kazakhstan': 7.305804878099998, 'Kenya': 8.047048780499999, 'Kiribati': 14.70646341470001, 'Korea, Dem. People�s Rep.': 16.5508780488, 'Korea, Rep.': 24.8654146341, 'Kuwait': 11.9615121951, 'Kyrgyz Republic': 10.892463414599995, 'Lao PDR': 19.018609756100005, 'Late-demographic dividend': 22.300966809099997, 'Latin America & Caribbean': 16.378939963800008, 'Latin America & Caribbean (excluding high income)': 16.525586640499988, 'Latin America & the Caribbean (IDA & IBRD countries)': 16.658012623699996, 'Latvia': 1.5890243902000094, 'Least developed countries: UN classification': 18.434845975200005, 'Lebanon': 13.735487804899996, 'Lesotho': -2.5200243901999997, 'Liberia': 21.837073170800004, 'Libya': 25.867439024299998, 'Lithuania': 1.8046341463000033, 'Low & middle income': 19.426140362099993, 'Low income': 16.923596187500003, 'Lower middle income': 18.313580842000007, 'Luxembourg': 10.384804878099999, 'Macao SAR, China': 13.440463414600003, 'Macedonia, FYR': 12.4624878049, 'Madagascar': 21.115195121999996, 'Malawi': 13.298317073199996, 'Malaysia': 13.201585365900009, 'Maldives': 36.916146341499996, 'Mali': 25.7134634147, 'Malta': 11.587902439000004, 'Mauritania': 16.3145121951, 'Mauritius': 11.9438292683, 'Mexico': 17.4076829269, 'Micronesia, Fed. Sts.': 9.836902439000006, 'Middle East & North Africa': 23.022387012099998, 'Middle East & North Africa (IDA & IBRD countries)': 23.021217616199998, 'Middle East & North Africa (excluding high income)': 23.031226136199997, 'Middle income': 19.9152178534, 'Moldova': 5.665707316999992, 'Mongolia': 15.908121951200009, 'Montenegro': 8.978731707300028, 'Morocco': 21.990048780400002, 'Mozambique': 15.709829268299998, 'Myanmar': 19.9423170731, 'Namibia': 10.679707317000009, 'Nepal': 30.5996341464, 'Netherlands': 6.77365853660001, 'New Caledonia': 16.507317073200007, 'New Zealand': 8.919512195099998, 'Nicaragua': 24.2757804878, 'Niger': 19.789560975600004, 'Nigeria': 11.7290731708, 'North America': 8.015739247300004, 'Norway': 6.947073170699994, 'OECD members': 11.0214569754, 'Oman': 30.823097560999983, 'Other small states': 10.9766562115, 'Pacific island small states': 13.905312479900005, 'Pakistan': 17.2217560975, 'Panama': 14.418097560900001, 'Papua New Guinea': 21.594024390199998, 'Paraguay': 7.467926829299998, 'Peru': 24.244170731700002, 'Philippines': 9.050170731700007, 'Poland': 7.817073170699999, 'Portugal': 14.627804877999992, 'Post-demographic dividend': 9.881827049500004, 'Pre-demographic dividend': 14.744958255500002, 'Puerto Rico': 9.280926829199998, 'Qatar': 14.5568292683, 'Romania': 5.5367804878000015, 'Russian Federation': 0.4761463415000122, 'Rwanda': 15.108292682900014, 'Samoa': 20.5912682927, 'Sao Tome and Principe': 13.590707317100005, 'Saudi Arabia': 26.650560975599987, 'Senegal': 23.338170731700004, 'Sierra Leone': 14.7355853659, 'Singapore': 14.00921951219999, 'Slovak Republic': 3.7129756097999973, 'Slovenia': 9.582926829299993, 'Small states': 9.635960698200009, 'Solomon Islands': 15.8850975609, 'Somalia': 15.2574390244, 'South Africa': 2.1832195122000044, 'South Asia': 22.304956571699996, 'South Asia (IDA & IBRD)': 22.304956571699996, 'South Sudan': 19.558731707300005, 'Spain': 11.354146341499998, 'Sri Lanka': 13.682536585300006, 'St. Lucia': 14.948512195100001, 'St. Vincent and the Grenadines': 11.860195121899991, 'Sub-Saharan Africa': 13.1291145541, 'Sub-Saharan Africa (IDA & IBRD countries)': 13.1291145541, 'Sub-Saharan Africa (excluding high income)': 13.127105735500002, 'Sudan': 11.6734146342, 'Suriname': 9.070634146299987, 'Swaziland': 1.9544390244000027, 'Sweden': 7.549512195100007, 'Switzerland': 10.545365853600003, 'Syrian Arab Republic': 20.3782682927, 'Tajikistan': 10.232804878099998, 'Tanzania': 13.915536585399998, 'Thailand': 17.129219512199988, 'Timor-Leste': 31.085146341499993, 'Togo': 13.878341463400005, 'Tonga': 9.639707317099997, 'Trinidad and Tobago': 5.499463414600001, 'Tunisia': 30.860756097599996, 'Turkey': 26.340365853599998, 'Turkmenistan': 9.3516341463, 'Uganda': 8.507097561000002, 'Ukraine': -0.9239024390000026, 'United Arab Emirates': 21.7841707317, 'United Kingdom': 8.521951219499996, 'United States': 7.868292682900005, 'Upper middle income': 22.1216112849, 'Uruguay': 7.6543902438999964, 'Uzbekistan': 7.818195121999992, 'Vanuatu': 22.260536585299995, 'Venezuela, RB': 12.95858536579999, 'Vietnam': 14.073317073100007, 'Virgin Islands': 14.3618292683, 'World': 16.236963813899997, 'Yemen, Rep.': 27.215243902399997, 'Zambia': 6.623487804900002, 'Zimbabwe': -8.100146341399999}\n",
      "The country with the greatest increase in life expectancy was Zimbabwe with an increase of 36.916146341499996 years!\n"
     ]
    }
   ],
   "source": [
    "df7 = df[['Country Name', 'Year', 'Life expectancy at birth, total (years)']].dropna().query('Year == 1962 | Year == 2007')\n",
    "\n",
    "country_lex_2007 = {}\n",
    "country_lex_1962 = {}\n",
    "differences = {}\n",
    "\n",
    "for row in df7.iterrows():\n",
    "    country = row[1]['Country Name']\n",
    "    if row[1]['Year'] == 2007:\n",
    "        country_lex_2007[country] = row[1]['Life expectancy at birth, total (years)']\n",
    "    elif row[1]['Year'] == 1962:\n",
    "        country_lex_1962[country] = row[1]['Life expectancy at birth, total (years)']\n",
    "    \n",
    "\n",
    "for country, lex_1962 in country_lex_1962.items():\n",
    "    lex_2007 = country_lex_2007.get(country)\n",
    "    if lex_2007:\n",
    "        difference = lex_2007 - lex_1962\n",
    "        differences[country] = difference \n",
    "\n",
    "print(differences)\n",
    "print('The country with the greatest increase in life expectancy was', max(differences.keys()), 'with an increase of', max(differences.values()), 'years!')   \n",
    "    \n",
    "  \n",
    "        "
   ]
  }
 ],
 "metadata": {
  "kernelspec": {
   "display_name": "base",
   "language": "python",
   "name": "python3"
  },
  "language_info": {
   "codemirror_mode": {
    "name": "ipython",
    "version": 3
   },
   "file_extension": ".py",
   "mimetype": "text/x-python",
   "name": "python",
   "nbconvert_exporter": "python",
   "pygments_lexer": "ipython3",
   "version": "3.9.12"
  },
  "orig_nbformat": 4
 },
 "nbformat": 4,
 "nbformat_minor": 2
}
